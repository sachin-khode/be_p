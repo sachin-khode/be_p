{
 "cells": [
  {
   "cell_type": "code",
   "execution_count": 5,
   "metadata": {},
   "outputs": [],
   "source": [
    "list1 = ['apple','mango','carrot','banana']\n"
   ]
  },
  {
   "cell_type": "code",
   "execution_count": 6,
   "metadata": {},
   "outputs": [],
   "source": [
    "list2 = ['table', 'chair','pen']"
   ]
  },
  {
   "cell_type": "code",
   "execution_count": 26,
   "metadata": {},
   "outputs": [],
   "source": [
    "list3 = [1,5,9,11,2,4,7,8,33,10]\n",
    "list4 = [0,1,2,'sachin',1.05,5]"
   ]
  },
  {
   "cell_type": "markdown",
   "metadata": {},
   "source": [
    "# Enumerate"
   ]
  },
  {
   "cell_type": "code",
   "execution_count": 12,
   "metadata": {},
   "outputs": [
    {
     "name": "stdout",
     "output_type": "stream",
     "text": [
      "<enumerate object at 0x7fa238194280>\n"
     ]
    }
   ],
   "source": [
    "obj1 = enumerate(list1)\n",
    "print(obj1)\n",
    "obj2 = enumerate(list2)"
   ]
  },
  {
   "cell_type": "code",
   "execution_count": 13,
   "metadata": {},
   "outputs": [
    {
     "name": "stdout",
     "output_type": "stream",
     "text": [
      "[(0, 'apple'), (1, 'mango'), (2, 'carrot'), (3, 'banana')] [(0, 'table'), (1, 'chair'), (2, 'pen')]\n"
     ]
    }
   ],
   "source": [
    "print(list(obj1),list(obj2))"
   ]
  },
  {
   "cell_type": "code",
   "execution_count": 22,
   "metadata": {},
   "outputs": [
    {
     "name": "stdout",
     "output_type": "stream",
     "text": [
      "(0, 'apple')\n",
      "(1, 'mango')\n",
      "(2, 'carrot')\n",
      "(3, 'banana')\n"
     ]
    }
   ],
   "source": [
    "for i in enumerate(list1):\n",
    "    print(i)"
   ]
  },
  {
   "cell_type": "code",
   "execution_count": 25,
   "metadata": {},
   "outputs": [
    {
     "name": "stdout",
     "output_type": "stream",
     "text": [
      "10000 apple\n",
      "10001 mango\n",
      "10002 carrot\n",
      "10003 banana\n"
     ]
    }
   ],
   "source": [
    "for count,i in enumerate(list1,10000): \n",
    "    print (count,i)"
   ]
  },
  {
   "cell_type": "markdown",
   "metadata": {},
   "source": [
    "# all() "
   ]
  },
  {
   "cell_type": "code",
   "execution_count": 35,
   "metadata": {},
   "outputs": [
    {
     "name": "stdout",
     "output_type": "stream",
     "text": [
      "[0, 1, 2, 'sachin', 1.05, 5] \n",
      " result of all for aboove list-----> False \n",
      "\n",
      "['apple', 'mango', 'carrot', 'banana'] \n",
      " result of all for aboove list-----> True\n"
     ]
    }
   ],
   "source": [
    "x = all(list4)\n",
    "print(list4,'\\n',\"result of all for aboove list----->\",x,'\\n')\n",
    "y = all(list1)\n",
    "print(list1,'\\n',\"result of all for aboove list----->\",y)"
   ]
  },
  {
   "cell_type": "markdown",
   "metadata": {},
   "source": [
    "# len() "
   ]
  },
  {
   "cell_type": "code",
   "execution_count": 39,
   "metadata": {},
   "outputs": [
    {
     "name": "stdout",
     "output_type": "stream",
     "text": [
      "lenth of list1----> 4 \n",
      " lenth of list2----> 3 \n",
      " lenth of list3----> 10 \n",
      " lenth of list4----> 6\n"
     ]
    }
   ],
   "source": [
    "print(\"lenth of list1---->\",len(list1),'\\n',\"lenth of list2---->\",len(list2),'\\n',\"lenth of list3---->\",len(list3),'\\n',\"lenth of list4---->\",len(list4))"
   ]
  },
  {
   "cell_type": "markdown",
   "metadata": {},
   "source": [
    "# max(), min(), sorted(), reverse(), sum()"
   ]
  },
  {
   "cell_type": "code",
   "execution_count": 42,
   "metadata": {},
   "outputs": [
    {
     "name": "stdout",
     "output_type": "stream",
     "text": [
      "[1, 5, 9, 11, 2, 4, 7, 8, 33, 10]\n",
      "the max of above list is:   33 \n",
      "\n",
      "[1, 5, 9, 11, 2, 4, 7, 8, 33, 10]\n",
      "the min of above list is:   1 \n",
      "\n",
      "[1, 5, 9, 11, 2, 4, 7, 8, 33, 10]\n",
      "the sum of above list is:   90 \n",
      "\n",
      "[1, 5, 9, 11, 2, 4, 7, 8, 33, 10]\n",
      "the sorted form of above list is:   [1, 2, 4, 5, 7, 8, 9, 10, 11, 33] \n",
      "\n",
      "[1, 5, 9, 11, 2, 4, 7, 8, 33, 10]\n",
      "the reverse of above list is:   [33, 11, 10, 9, 8, 7, 5, 4, 2, 1] \n",
      "\n"
     ]
    }
   ],
   "source": [
    "print(list3)\n",
    "print(\"the max of above list is:  \",max(list3),'\\n')\n",
    "\n",
    "print(list3)\n",
    "print(\"the min of above list is:  \",min(list3),'\\n')\n",
    "\n",
    "print(list3)\n",
    "print(\"the sum of above list is:  \",sum(list3),'\\n')\n",
    "\n",
    "print(list3)\n",
    "print(\"the sorted form of above list is:  \", sorted(list3),'\\n')\n",
    "\n",
    "print(list3)\n",
    "print(\"the reverse of above list is:  \",sorted(list3,reverse=True),'\\n')"
   ]
  },
  {
   "cell_type": "markdown",
   "metadata": {},
   "source": [
    "# Methods for list\n"
   ]
  },
  {
   "cell_type": "code",
   "execution_count": 64,
   "metadata": {},
   "outputs": [
    {
     "name": "stdout",
     "output_type": "stream",
     "text": [
      "[['table', 'chair', 'pen']] \n",
      "\n",
      "[['table', 'chair', 'pen'], 'apple', 'banana', 'carrot', 'mango', ['table', 'chair', 'pen'], ['table', 'chair', 'pen']] \n",
      "\n",
      "0\n",
      "Sorted list: ['a', 'e', 'i', 'o', 'u']\n",
      "new_list---> ['a', 'e', 'i', 'o', 'u']\n"
     ]
    }
   ],
   "source": [
    "a = []\n",
    "a.append(list2)          #append\n",
    "print(a,'\\n')\n",
    "\n",
    "a.extend(list1)          #extend  \n",
    "print(a,'\\n')\n",
    "\n",
    "print(a.count('table'))  #count\n",
    "\n",
    "vowels = ['e', 'a', 'u', 'o', 'i']   #sort\n",
    "vowels.sort()\n",
    "print('Sorted list:', vowels)\n",
    "\n",
    "new_list = vowels.copy()\n",
    "print(\"new_list--->\", new_list)"
   ]
  },
  {
   "cell_type": "markdown",
   "metadata": {},
   "source": [
    "# set methods"
   ]
  },
  {
   "cell_type": "markdown",
   "metadata": {},
   "source": [
    "###### add"
   ]
  },
  {
   "cell_type": "code",
   "execution_count": 65,
   "metadata": {},
   "outputs": [
    {
     "name": "stdout",
     "output_type": "stream",
     "text": [
      "{1, 2, 3}\n"
     ]
    }
   ],
   "source": [
    "my_set = {1, 3}\n",
    "\n",
    "\n",
    "my_set.add(2)\n",
    "print(my_set)\n"
   ]
  },
  {
   "cell_type": "markdown",
   "metadata": {},
   "source": [
    "##### update"
   ]
  },
  {
   "cell_type": "code",
   "execution_count": 66,
   "metadata": {},
   "outputs": [
    {
     "name": "stdout",
     "output_type": "stream",
     "text": [
      "{1, 2, 3, 4}\n"
     ]
    }
   ],
   "source": [
    "my_set.update([2, 3, 4])\n",
    "print(my_set)"
   ]
  },
  {
   "cell_type": "code",
   "execution_count": 67,
   "metadata": {},
   "outputs": [
    {
     "name": "stdout",
     "output_type": "stream",
     "text": [
      "{1, 2, 3, 4, 5, 6, 8}\n"
     ]
    }
   ],
   "source": [
    "my_set.update([4, 5], {1, 6, 8})\n",
    "print(my_set)"
   ]
  },
  {
   "cell_type": "markdown",
   "metadata": {},
   "source": [
    "#### discard "
   ]
  },
  {
   "cell_type": "code",
   "execution_count": 68,
   "metadata": {},
   "outputs": [
    {
     "name": "stdout",
     "output_type": "stream",
     "text": [
      "{1, 2, 3, 5, 6, 8}\n"
     ]
    }
   ],
   "source": [
    "my_set.discard(4)\n",
    "print(my_set)"
   ]
  },
  {
   "cell_type": "markdown",
   "metadata": {},
   "source": [
    "##### remove"
   ]
  },
  {
   "cell_type": "code",
   "execution_count": 69,
   "metadata": {},
   "outputs": [
    {
     "name": "stdout",
     "output_type": "stream",
     "text": [
      "{1, 2, 3, 5, 8}\n"
     ]
    }
   ],
   "source": [
    "my_set.remove(6)\n",
    "print(my_set)"
   ]
  },
  {
   "cell_type": "code",
   "execution_count": 70,
   "metadata": {},
   "outputs": [
    {
     "name": "stdout",
     "output_type": "stream",
     "text": [
      "{'e', 'r', 'o', 'W', 'l', 'H', 'd'}\n"
     ]
    }
   ],
   "source": [
    "my_set = set(\"HelloWorld\")\n",
    "print(my_set)"
   ]
  },
  {
   "cell_type": "markdown",
   "metadata": {},
   "source": [
    "#### difference "
   ]
  },
  {
   "cell_type": "code",
   "execution_count": 71,
   "metadata": {},
   "outputs": [
    {
     "name": "stdout",
     "output_type": "stream",
     "text": [
      "{1, 2, 3}\n"
     ]
    }
   ],
   "source": [
    "A = {1, 2, 3, 4, 5}\n",
    "B = {4, 5, 6, 7, 8}\n",
    "\n",
    "print(A - B)\n"
   ]
  },
  {
   "cell_type": "markdown",
   "metadata": {},
   "source": [
    "#### pop "
   ]
  },
  {
   "cell_type": "code",
   "execution_count": 72,
   "metadata": {},
   "outputs": [
    {
     "name": "stdout",
     "output_type": "stream",
     "text": [
      "{'e', 'r', 'o', 'W', 'l', 'H', 'd'}\n",
      "e\n",
      "{'o', 'W', 'l', 'H', 'd'}\n"
     ]
    }
   ],
   "source": [
    "my_set = set(\"HelloWorld\")\n",
    "print(my_set)\n",
    "\n",
    "print(my_set.pop())\n",
    "\n",
    "my_set.pop()\n",
    "print(my_set)"
   ]
  },
  {
   "cell_type": "markdown",
   "metadata": {},
   "source": [
    "#### union "
   ]
  },
  {
   "cell_type": "code",
   "execution_count": 73,
   "metadata": {},
   "outputs": [
    {
     "name": "stdout",
     "output_type": "stream",
     "text": [
      "{1, 2, 3, 4, 5, 6, 7, 8}\n"
     ]
    }
   ],
   "source": [
    "A = {1, 2, 3, 4, 5}\n",
    "B = {4, 5, 6, 7, 8}\n",
    "\n",
    "print(A | B)"
   ]
  },
  {
   "cell_type": "markdown",
   "metadata": {},
   "source": [
    "#### inetrsection\n"
   ]
  },
  {
   "cell_type": "code",
   "execution_count": 74,
   "metadata": {},
   "outputs": [
    {
     "name": "stdout",
     "output_type": "stream",
     "text": [
      "{4, 5}\n"
     ]
    }
   ],
   "source": [
    "A = {1, 2, 3, 4, 5}\n",
    "B = {4, 5, 6, 7, 8}\n",
    "\n",
    "print(A & B)"
   ]
  },
  {
   "cell_type": "code",
   "execution_count": null,
   "metadata": {},
   "outputs": [],
   "source": []
  }
 ],
 "metadata": {
  "kernelspec": {
   "display_name": "Python 3",
   "language": "python",
   "name": "python3"
  },
  "language_info": {
   "codemirror_mode": {
    "name": "ipython",
    "version": 3
   },
   "file_extension": ".py",
   "mimetype": "text/x-python",
   "name": "python",
   "nbconvert_exporter": "python",
   "pygments_lexer": "ipython3",
   "version": "3.7.4"
  }
 },
 "nbformat": 4,
 "nbformat_minor": 2
}
